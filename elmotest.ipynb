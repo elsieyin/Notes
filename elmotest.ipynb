{
  "nbformat": 4,
  "nbformat_minor": 0,
  "metadata": {
    "colab": {
      "name": "elmotest.ipynb",
      "version": "0.3.2",
      "provenance": [],
      "collapsed_sections": [],
      "include_colab_link": true
    },
    "kernelspec": {
      "name": "python3",
      "display_name": "Python 3"
    },
    "accelerator": "GPU"
  },
  "cells": [
    {
      "cell_type": "markdown",
      "metadata": {
        "id": "view-in-github",
        "colab_type": "text"
      },
      "source": [
        "<a href=\"https://colab.research.google.com/github/elsieyin/ReadPaper/blob/master/elmotest.ipynb\" target=\"_parent\"><img src=\"https://colab.research.google.com/assets/colab-badge.svg\" alt=\"Open In Colab\"/></a>"
      ]
    },
    {
      "cell_type": "code",
      "metadata": {
        "id": "GZF4ltHm8kJq",
        "colab_type": "code",
        "outputId": "f36ad0fc-5a16-49f5-c3e8-da31b856fca0",
        "colab": {
          "base_uri": "https://localhost:8080/",
          "height": 34
        }
      },
      "source": [
        "import tensorflow as tf\n",
        "import pandas as pd\n",
        "import tensorflow_hub as hub\n",
        "import os\n",
        "import re\n",
        "from keras import backend as K\n",
        "import keras.layers as layers\n",
        "from keras.models import Model, load_model\n",
        "from keras.engine import Layer\n",
        "import numpy as np\n",
        "\n",
        "sess = tf.Session()\n",
        "K.set_session(sess)"
      ],
      "execution_count": 1,
      "outputs": [
        {
          "output_type": "stream",
          "text": [
            "Using TensorFlow backend.\n"
          ],
          "name": "stderr"
        }
      ]
    },
    {
      "cell_type": "code",
      "metadata": {
        "id": "gBkmHx_18soQ",
        "colab_type": "code",
        "outputId": "aba356a4-7e44-4566-d9cd-115b14709a8f",
        "colab": {
          "base_uri": "https://localhost:8080/",
          "height": 236
        }
      },
      "source": [
        "# Load all files from a directory in a DataFrame.\n",
        "def load_directory_data(directory):\n",
        "  data = {}\n",
        "  data[\"sentence\"] = []\n",
        "  data[\"sentiment\"] = []\n",
        "  for file_path in os.listdir(directory):\n",
        "    with tf.gfile.GFile(os.path.join(directory, file_path), \"r\") as f:\n",
        "      data[\"sentence\"].append(f.read())\n",
        "      data[\"sentiment\"].append(re.match(\"\\d+_(\\d+)\\.txt\", file_path).group(1))\n",
        "  return pd.DataFrame.from_dict(data)\n",
        "\n",
        "# Merge positive and negative examples, add a polarity column and shuffle.\n",
        "def load_dataset(directory):\n",
        "  pos_df = load_directory_data(os.path.join(directory, \"pos\"))\n",
        "  neg_df = load_directory_data(os.path.join(directory, \"neg\"))\n",
        "  pos_df[\"polarity\"] = 1\n",
        "  neg_df[\"polarity\"] = 0\n",
        "  return pd.concat([pos_df, neg_df]).sample(frac=1).reset_index(drop=True)\n",
        "\n",
        "# Download and process the dataset files.\n",
        "def download_and_load_datasets(force_download=False):\n",
        "  dataset = tf.keras.utils.get_file(\n",
        "      fname=\"aclImdb.tar.gz\", \n",
        "      origin=\"http://ai.stanford.edu/~amaas/data/sentiment/aclImdb_v1.tar.gz\", \n",
        "      extract=True)\n",
        "\n",
        "  train_df = load_dataset(os.path.join(os.path.dirname(dataset), \n",
        "                                       \"aclImdb\", \"train\"))\n",
        "  test_df = load_dataset(os.path.join(os.path.dirname(dataset), \n",
        "                                      \"aclImdb\", \"test\"))\n",
        "\n",
        "  return train_df, test_df\n",
        "\n",
        "# Reduce logging output.\n",
        "tf.logging.set_verbosity(tf.logging.ERROR)\n",
        "\n",
        "train_df, test_df = download_and_load_datasets()\n",
        "train_df.head()"
      ],
      "execution_count": 2,
      "outputs": [
        {
          "output_type": "stream",
          "text": [
            "Downloading data from http://ai.stanford.edu/~amaas/data/sentiment/aclImdb_v1.tar.gz\n",
            "84131840/84125825 [==============================] - 4s 0us/step\n"
          ],
          "name": "stdout"
        },
        {
          "output_type": "execute_result",
          "data": {
            "text/html": [
              "<div>\n",
              "<style scoped>\n",
              "    .dataframe tbody tr th:only-of-type {\n",
              "        vertical-align: middle;\n",
              "    }\n",
              "\n",
              "    .dataframe tbody tr th {\n",
              "        vertical-align: top;\n",
              "    }\n",
              "\n",
              "    .dataframe thead th {\n",
              "        text-align: right;\n",
              "    }\n",
              "</style>\n",
              "<table border=\"1\" class=\"dataframe\">\n",
              "  <thead>\n",
              "    <tr style=\"text-align: right;\">\n",
              "      <th></th>\n",
              "      <th>sentence</th>\n",
              "      <th>sentiment</th>\n",
              "      <th>polarity</th>\n",
              "    </tr>\n",
              "  </thead>\n",
              "  <tbody>\n",
              "    <tr>\n",
              "      <th>0</th>\n",
              "      <td>I generally love these 1930 mystery/police Cha...</td>\n",
              "      <td>7</td>\n",
              "      <td>1</td>\n",
              "    </tr>\n",
              "    <tr>\n",
              "      <th>1</th>\n",
              "      <td>Man on Fire was hot. I love a classic tale of ...</td>\n",
              "      <td>8</td>\n",
              "      <td>1</td>\n",
              "    </tr>\n",
              "    <tr>\n",
              "      <th>2</th>\n",
              "      <td>I didn't know it was possible to release a mov...</td>\n",
              "      <td>1</td>\n",
              "      <td>0</td>\n",
              "    </tr>\n",
              "    <tr>\n",
              "      <th>3</th>\n",
              "      <td>In spite of having some exciting (and daring) ...</td>\n",
              "      <td>4</td>\n",
              "      <td>0</td>\n",
              "    </tr>\n",
              "    <tr>\n",
              "      <th>4</th>\n",
              "      <td>I wish I could give this movie a zero, or even...</td>\n",
              "      <td>1</td>\n",
              "      <td>0</td>\n",
              "    </tr>\n",
              "  </tbody>\n",
              "</table>\n",
              "</div>"
            ],
            "text/plain": [
              "                                            sentence sentiment  polarity\n",
              "0  I generally love these 1930 mystery/police Cha...         7         1\n",
              "1  Man on Fire was hot. I love a classic tale of ...         8         1\n",
              "2  I didn't know it was possible to release a mov...         1         0\n",
              "3  In spite of having some exciting (and daring) ...         4         0\n",
              "4  I wish I could give this movie a zero, or even...         1         0"
            ]
          },
          "metadata": {
            "tags": []
          },
          "execution_count": 2
        }
      ]
    },
    {
      "cell_type": "code",
      "metadata": {
        "id": "sQbQAekA8-MA",
        "colab_type": "code",
        "colab": {}
      },
      "source": [
        "#Create a custom layer that allows us to update weights (lambda layers do not have trainable parameters!)\n",
        "\n",
        "class ElmoEmbeddingLayer(Layer):\n",
        "    def __init__(self, **kwargs):\n",
        "        self.dimensions = 1024\n",
        "        self.trainable=True\n",
        "        super(ElmoEmbeddingLayer, self).__init__(**kwargs)\n",
        "\n",
        "    def build(self, input_shape):\n",
        "        self.elmo = hub.Module('https://tfhub.dev/google/elmo/2', trainable=self.trainable,\n",
        "                               name=\"{}_module\".format(self.name))\n",
        "\n",
        "        self.trainable_weights += K.tf.trainable_variables(scope=\"^{}_module/.*\".format(self.name))\n",
        "        super(ElmoEmbeddingLayer, self).build(input_shape)\n",
        "\n",
        "    def call(self, x, mask=None):\n",
        "        result = self.elmo(K.squeeze(K.cast(x, tf.string), axis=1),\n",
        "                      as_dict=True,\n",
        "                      signature='default',\n",
        "                      )['default']\n",
        "        return result\n",
        "\n",
        "    def compute_mask(self, inputs, mask=None):\n",
        "        return K.not_equal(inputs, '--PAD--')\n",
        "\n",
        "    def compute_output_shape(self, input_shape):\n",
        "        return (input_shape[0], self.dimensions)"
      ],
      "execution_count": 0,
      "outputs": []
    },
    {
      "cell_type": "code",
      "metadata": {
        "id": "ydNAnKWGspFw",
        "colab_type": "code",
        "colab": {}
      },
      "source": [
        "# Function to build model\n",
        "def build_model(): \n",
        "  input_text = layers.Input(shape=(1,), dtype=\"string\")\n",
        "  embedding = ElmoEmbeddingLayer()(input_text)\n",
        "  dense = layers.Dense(256, activation='relu')(embedding)\n",
        "  pred = layers.Dense(1, activation='sigmoid')(dense)\n",
        "\n",
        "  model = Model(inputs=[input_text], outputs=pred)\n",
        "\n",
        "  model.compile(loss='binary_crossentropy', optimizer='adam', metrics=['accuracy'])\n",
        "  model.summary()\n",
        "  \n",
        "  return model"
      ],
      "execution_count": 0,
      "outputs": []
    },
    {
      "cell_type": "code",
      "metadata": {
        "id": "Wyo1LR48svL4",
        "colab_type": "code",
        "colab": {}
      },
      "source": [
        "# Create datasets (Only take up to 150 words for memory)\n",
        "train_text = train_df['sentence'].tolist()\n",
        "train_text = [' '.join(t.split()[0:150]) for t in train_text]\n",
        "train_text = np.array(train_text, dtype=object)[:, np.newaxis]\n",
        "train_label = train_df['polarity'].tolist()\n",
        "\n",
        "test_text = test_df['sentence'].tolist()\n",
        "test_text = [' '.join(t.split()[0:150]) for t in test_text]\n",
        "test_text = np.array(test_text, dtype=object)[:, np.newaxis]\n",
        "test_label = test_df['polarity'].tolist()"
      ],
      "execution_count": 0,
      "outputs": []
    },
    {
      "cell_type": "code",
      "metadata": {
        "id": "LXLyQYcLsxnA",
        "colab_type": "code",
        "outputId": "7cc11991-7515-4cf5-bd65-d34fbc5570e9",
        "colab": {
          "base_uri": "https://localhost:8080/",
          "height": 1000
        }
      },
      "source": [
        "# Build and fit\n",
        "model = build_model()\n",
        "model.fit(train_text, \n",
        "          train_label,\n",
        "          validation_data=(test_text, test_label),\n",
        "          epochs=1,\n",
        "          batch_size=32)"
      ],
      "execution_count": 6,
      "outputs": [
        {
          "output_type": "stream",
          "text": [
            "_________________________________________________________________\n",
            "Layer (type)                 Output Shape              Param #   \n",
            "=================================================================\n",
            "input_1 (InputLayer)         (None, 1)                 0         \n",
            "_________________________________________________________________\n",
            "elmo_embedding_layer_1 (Elmo (None, 1024)              4         \n",
            "_________________________________________________________________\n",
            "dense_1 (Dense)              (None, 256)               262400    \n",
            "_________________________________________________________________\n",
            "dense_2 (Dense)              (None, 1)                 257       \n",
            "=================================================================\n",
            "Total params: 262,661\n",
            "Trainable params: 262,661\n",
            "Non-trainable params: 0\n",
            "_________________________________________________________________\n",
            "Train on 25000 samples, validate on 25000 samples\n",
            "Epoch 1/1\n",
            "24992/25000 [============================>.] - ETA: 0s - loss: 0.4481 - acc: 0.7889"
          ],
          "name": "stdout"
        },
        {
          "output_type": "stream",
          "text": [
            "WARNING: Logging before flag parsing goes to stderr.\n",
            "E0626 05:02:35.703780 140409991083904 ultratb.py:152] Internal Python error in the inspect module.\n",
            "Below is the traceback from this internal error.\n",
            "\n"
          ],
          "name": "stderr"
        },
        {
          "output_type": "stream",
          "text": [
            "Traceback (most recent call last):\n",
            "  File \"/usr/local/lib/python3.6/dist-packages/IPython/core/interactiveshell.py\", line 2882, in run_code\n",
            "    exec(code_obj, self.user_global_ns, self.user_ns)\n",
            "  File \"<ipython-input-6-002c8a64f733>\", line 6, in <module>\n",
            "    batch_size=32)\n",
            "  File \"/usr/local/lib/python3.6/dist-packages/keras/engine/training.py\", line 1039, in fit\n",
            "    validation_steps=validation_steps)\n",
            "  File \"/usr/local/lib/python3.6/dist-packages/keras/engine/training_arrays.py\", line 212, in fit_loop\n",
            "    verbose=0)\n",
            "  File \"/usr/local/lib/python3.6/dist-packages/keras/engine/training_arrays.py\", line 392, in test_loop\n",
            "    batch_outs = f(ins_batch)\n",
            "  File \"/usr/local/lib/python3.6/dist-packages/keras/backend/tensorflow_backend.py\", line 2715, in __call__\n",
            "    return self._call(inputs)\n",
            "  File \"/usr/local/lib/python3.6/dist-packages/keras/backend/tensorflow_backend.py\", line 2675, in _call\n",
            "    fetched = self._callable_fn(*array_vals)\n",
            "  File \"/usr/local/lib/python3.6/dist-packages/tensorflow/python/client/session.py\", line 1458, in __call__\n",
            "    run_metadata_ptr)\n",
            "KeyboardInterrupt\n",
            "\n",
            "During handling of the above exception, another exception occurred:\n",
            "\n",
            "Traceback (most recent call last):\n",
            "  File \"/usr/local/lib/python3.6/dist-packages/IPython/core/interactiveshell.py\", line 1823, in showtraceback\n",
            "    stb = value._render_traceback_()\n",
            "AttributeError: 'KeyboardInterrupt' object has no attribute '_render_traceback_'\n",
            "\n",
            "During handling of the above exception, another exception occurred:\n",
            "\n",
            "Traceback (most recent call last):\n",
            "  File \"/usr/local/lib/python3.6/dist-packages/IPython/core/ultratb.py\", line 1132, in get_records\n",
            "    return _fixed_getinnerframes(etb, number_of_lines_of_context, tb_offset)\n",
            "  File \"/usr/local/lib/python3.6/dist-packages/IPython/core/ultratb.py\", line 313, in wrapped\n",
            "    return f(*args, **kwargs)\n",
            "  File \"/usr/local/lib/python3.6/dist-packages/IPython/core/ultratb.py\", line 358, in _fixed_getinnerframes\n",
            "    records = fix_frame_records_filenames(inspect.getinnerframes(etb, context))\n",
            "  File \"/usr/lib/python3.6/inspect.py\", line 1490, in getinnerframes\n",
            "    frameinfo = (tb.tb_frame,) + getframeinfo(tb, context)\n",
            "  File \"/usr/lib/python3.6/inspect.py\", line 1448, in getframeinfo\n",
            "    filename = getsourcefile(frame) or getfile(frame)\n",
            "  File \"/usr/lib/python3.6/inspect.py\", line 696, in getsourcefile\n",
            "    if getattr(getmodule(object, filename), '__loader__', None) is not None:\n",
            "  File \"/usr/lib/python3.6/inspect.py\", line 733, in getmodule\n",
            "    if ismodule(module) and hasattr(module, '__file__'):\n",
            "  File \"/usr/local/lib/python3.6/dist-packages/py/_vendored_packages/apipkg.py\", line 195, in __getattribute__\n",
            "    return getattr(getmod(), name)\n",
            "  File \"/usr/local/lib/python3.6/dist-packages/py/_vendored_packages/apipkg.py\", line 179, in getmod\n",
            "    x = importobj(modpath, None)\n",
            "  File \"/usr/local/lib/python3.6/dist-packages/py/_vendored_packages/apipkg.py\", line 69, in importobj\n",
            "    module = __import__(modpath, None, None, ['__doc__'])\n",
            "  File \"/usr/local/lib/python3.6/dist-packages/pytest.py\", line 9, in <module>\n",
            "    from _pytest.config import main, UsageError, cmdline, hookspec, hookimpl\n",
            "  File \"<frozen importlib._bootstrap>\", line 971, in _find_and_load\n",
            "  File \"<frozen importlib._bootstrap>\", line 955, in _find_and_load_unlocked\n",
            "  File \"<frozen importlib._bootstrap>\", line 665, in _load_unlocked\n",
            "  File \"<frozen importlib._bootstrap_external>\", line 674, in exec_module\n",
            "  File \"<frozen importlib._bootstrap_external>\", line 764, in get_code\n",
            "  File \"<frozen importlib._bootstrap_external>\", line 832, in get_data\n",
            "KeyboardInterrupt\n"
          ],
          "name": "stdout"
        },
        {
          "output_type": "error",
          "ename": "KeyboardInterrupt",
          "evalue": "ignored",
          "traceback": [
            "\u001b[0;31m---------------------------------------------------------------------------\u001b[0m"
          ]
        }
      ]
    },
    {
      "cell_type": "code",
      "metadata": {
        "id": "YeNpsFPfszwO",
        "colab_type": "code",
        "colab": {
          "base_uri": "https://localhost:8080/",
          "height": 295
        },
        "outputId": "d64d3081-bf09-47f1-db44-9056df5cc08a"
      },
      "source": [
        "model.save('ElmoModel.h5')\n",
        "pre_save_preds = model.predict(test_text[0:100]) # predictions before we clear and reload model\n",
        "\n",
        "# Clear and load model\n",
        "model = None\n",
        "model = build_model()\n",
        "model.load_weights('ElmoModel.h5')\n",
        "\n",
        "post_save_preds = model.predict(test_text[0:100]) # predictions after we clear and reload model\n",
        "all(pre_save_preds == post_save_preds) # Are they the same?"
      ],
      "execution_count": 7,
      "outputs": [
        {
          "output_type": "stream",
          "text": [
            "_________________________________________________________________\n",
            "Layer (type)                 Output Shape              Param #   \n",
            "=================================================================\n",
            "input_2 (InputLayer)         (None, 1)                 0         \n",
            "_________________________________________________________________\n",
            "elmo_embedding_layer_2 (Elmo (None, 1024)              4         \n",
            "_________________________________________________________________\n",
            "dense_3 (Dense)              (None, 256)               262400    \n",
            "_________________________________________________________________\n",
            "dense_4 (Dense)              (None, 1)                 257       \n",
            "=================================================================\n",
            "Total params: 262,661\n",
            "Trainable params: 262,661\n",
            "Non-trainable params: 0\n",
            "_________________________________________________________________\n"
          ],
          "name": "stdout"
        },
        {
          "output_type": "execute_result",
          "data": {
            "text/plain": [
              "True"
            ]
          },
          "metadata": {
            "tags": []
          },
          "execution_count": 7
        }
      ]
    },
    {
      "cell_type": "code",
      "metadata": {
        "id": "8DPC-77qs9ag",
        "colab_type": "code",
        "colab": {
          "base_uri": "https://localhost:8080/",
          "height": 121
        },
        "outputId": "ff141dfd-5033-4c2d-bb64-d7b3cea56e1f"
      },
      "source": [
        "!git clone https://github.com/elsieyin/ReadPaper.git"
      ],
      "execution_count": 8,
      "outputs": [
        {
          "output_type": "stream",
          "text": [
            "Cloning into 'ReadPaper'...\n",
            "remote: Enumerating objects: 48, done.\u001b[K\n",
            "remote: Counting objects:   2% (1/48)   \u001b[K\rremote: Counting objects:   4% (2/48)   \u001b[K\rremote: Counting objects:   6% (3/48)   \u001b[K\rremote: Counting objects:   8% (4/48)   \u001b[K\rremote: Counting objects:  10% (5/48)   \u001b[K\rremote: Counting objects:  12% (6/48)   \u001b[K\rremote: Counting objects:  14% (7/48)   \u001b[K\rremote: Counting objects:  16% (8/48)   \u001b[K\rremote: Counting objects:  18% (9/48)   \u001b[K\rremote: Counting objects:  20% (10/48)   \u001b[K\rremote: Counting objects:  22% (11/48)   \u001b[K\rremote: Counting objects:  25% (12/48)   \u001b[K\rremote: Counting objects:  27% (13/48)   \u001b[K\rremote: Counting objects:  29% (14/48)   \u001b[K\rremote: Counting objects:  31% (15/48)   \u001b[K\rremote: Counting objects:  33% (16/48)   \u001b[K\rremote: Counting objects:  35% (17/48)   \u001b[K\rremote: Counting objects:  37% (18/48)   \u001b[K\rremote: Counting objects:  39% (19/48)   \u001b[K\rremote: Counting objects:  41% (20/48)   \u001b[K\rremote: Counting objects:  43% (21/48)   \u001b[K\rremote: Counting objects:  45% (22/48)   \u001b[K\rremote: Counting objects:  47% (23/48)   \u001b[K\rremote: Counting objects:  50% (24/48)   \u001b[K\rremote: Counting objects:  52% (25/48)   \u001b[K\rremote: Counting objects:  54% (26/48)   \u001b[K\rremote: Counting objects:  56% (27/48)   \u001b[K\rremote: Counting objects:  58% (28/48)   \u001b[K\rremote: Counting objects:  60% (29/48)   \u001b[K\rremote: Counting objects:  62% (30/48)   \u001b[K\rremote: Counting objects:  64% (31/48)   \u001b[K\rremote: Counting objects:  66% (32/48)   \u001b[K\rremote: Counting objects:  68% (33/48)   \u001b[K\rremote: Counting objects:  70% (34/48)   \u001b[K\rremote: Counting objects:  72% (35/48)   \u001b[K\rremote: Counting objects:  75% (36/48)   \u001b[K\rremote: Counting objects:  77% (37/48)   \u001b[K\rremote: Counting objects:  79% (38/48)   \u001b[K\rremote: Counting objects:  81% (39/48)   \u001b[K\rremote: Counting objects:  83% (40/48)   \u001b[K\rremote: Counting objects:  85% (41/48)   \u001b[K\rremote: Counting objects:  87% (42/48)   \u001b[K\rremote: Counting objects:  89% (43/48)   \u001b[K\rremote: Counting objects:  91% (44/48)   \u001b[K\rremote: Counting objects:  93% (45/48)   \u001b[K\rremote: Counting objects:  95% (46/48)   \u001b[K\rremote: Counting objects:  97% (47/48)   \u001b[K\rremote: Counting objects: 100% (48/48)   \u001b[K\rremote: Counting objects: 100% (48/48), done.\u001b[K\n",
            "remote: Compressing objects:   2% (1/47)   \u001b[K\rremote: Compressing objects:   4% (2/47)   \u001b[K\rremote: Compressing objects:   6% (3/47)   \u001b[K\rremote: Compressing objects:   8% (4/47)   \u001b[K\rremote: Compressing objects:  10% (5/47)   \u001b[K\rremote: Compressing objects:  12% (6/47)   \u001b[K\rremote: Compressing objects:  14% (7/47)   \u001b[K\rremote: Compressing objects:  17% (8/47)   \u001b[K\rremote: Compressing objects:  19% (9/47)   \u001b[K\rremote: Compressing objects:  21% (10/47)   \u001b[K\rremote: Compressing objects:  23% (11/47)   \u001b[K\rremote: Compressing objects:  25% (12/47)   \u001b[K\rremote: Compressing objects:  27% (13/47)   \u001b[K\rremote: Compressing objects:  29% (14/47)   \u001b[K\rremote: Compressing objects:  31% (15/47)   \u001b[K\rremote: Compressing objects:  34% (16/47)   \u001b[K\rremote: Compressing objects:  36% (17/47)   \u001b[K\rremote: Compressing objects:  38% (18/47)   \u001b[K\rremote: Compressing objects:  40% (19/47)   \u001b[K\rremote: Compressing objects:  42% (20/47)   \u001b[K\rremote: Compressing objects:  44% (21/47)   \u001b[K\rremote: Compressing objects:  46% (22/47)   \u001b[K\rremote: Compressing objects:  48% (23/47)   \u001b[K\rremote: Compressing objects:  51% (24/47)   \u001b[K\rremote: Compressing objects:  53% (25/47)   \u001b[K\rremote: Compressing objects:  55% (26/47)   \u001b[K\rremote: Compressing objects:  57% (27/47)   \u001b[K\rremote: Compressing objects:  59% (28/47)   \u001b[K\rremote: Compressing objects:  61% (29/47)   \u001b[K\rremote: Compressing objects:  63% (30/47)   \u001b[K\rremote: Compressing objects:  65% (31/47)   \u001b[K\rremote: Compressing objects:  68% (32/47)   \u001b[K\rremote: Compressing objects:  70% (33/47)   \u001b[K\rremote: Compressing objects:  72% (34/47)   \u001b[K\rremote: Compressing objects:  74% (35/47)   \u001b[K\rremote: Compressing objects:  76% (36/47)   \u001b[K\rremote: Compressing objects:  78% (37/47)   \u001b[K\rremote: Compressing objects:  80% (38/47)   \u001b[K\rremote: Compressing objects:  82% (39/47)   \u001b[K\rremote: Compressing objects:  85% (40/47)   \u001b[K\rremote: Compressing objects:  87% (41/47)   \u001b[K\rremote: Compressing objects:  89% (42/47)   \u001b[K\rremote: Compressing objects:  91% (43/47)   \u001b[K\rremote: Compressing objects:  93% (44/47)   \u001b[K\rremote: Compressing objects:  95% (45/47)   \u001b[K\rremote: Compressing objects:  97% (46/47)   \u001b[K\rremote: Compressing objects: 100% (47/47)   \u001b[K\rremote: Compressing objects: 100% (47/47), done.\u001b[K\n",
            "Unpacking objects:   2% (1/48)   \rUnpacking objects:   4% (2/48)   \rUnpacking objects:   6% (3/48)   \rUnpacking objects:   8% (4/48)   \rUnpacking objects:  10% (5/48)   \rUnpacking objects:  12% (6/48)   \rUnpacking objects:  14% (7/48)   \rUnpacking objects:  16% (8/48)   \rUnpacking objects:  18% (9/48)   \rUnpacking objects:  20% (10/48)   \rUnpacking objects:  22% (11/48)   \rUnpacking objects:  25% (12/48)   \rUnpacking objects:  27% (13/48)   \rUnpacking objects:  29% (14/48)   \rUnpacking objects:  31% (15/48)   \rUnpacking objects:  33% (16/48)   \rUnpacking objects:  35% (17/48)   \rremote: Total 48 (delta 24), reused 0 (delta 0), pack-reused 0\u001b[K\n",
            "Unpacking objects:  37% (18/48)   \rUnpacking objects:  39% (19/48)   \rUnpacking objects:  41% (20/48)   \rUnpacking objects:  43% (21/48)   \rUnpacking objects:  45% (22/48)   \rUnpacking objects:  47% (23/48)   \rUnpacking objects:  50% (24/48)   \rUnpacking objects:  52% (25/48)   \rUnpacking objects:  54% (26/48)   \rUnpacking objects:  56% (27/48)   \rUnpacking objects:  58% (28/48)   \rUnpacking objects:  60% (29/48)   \rUnpacking objects:  62% (30/48)   \rUnpacking objects:  64% (31/48)   \rUnpacking objects:  66% (32/48)   \rUnpacking objects:  68% (33/48)   \rUnpacking objects:  70% (34/48)   \rUnpacking objects:  72% (35/48)   \rUnpacking objects:  75% (36/48)   \rUnpacking objects:  77% (37/48)   \rUnpacking objects:  79% (38/48)   \rUnpacking objects:  81% (39/48)   \rUnpacking objects:  83% (40/48)   \rUnpacking objects:  85% (41/48)   \rUnpacking objects:  87% (42/48)   \rUnpacking objects:  89% (43/48)   \rUnpacking objects:  91% (44/48)   \rUnpacking objects:  93% (45/48)   \rUnpacking objects:  95% (46/48)   \rUnpacking objects:  97% (47/48)   \rUnpacking objects: 100% (48/48)   \rUnpacking objects: 100% (48/48), done.\n"
          ],
          "name": "stdout"
        }
      ]
    },
    {
      "cell_type": "code",
      "metadata": {
        "id": "FBigtZFdtnBv",
        "colab_type": "code",
        "colab": {
          "base_uri": "https://localhost:8080/",
          "height": 34
        },
        "outputId": "2dad39d2-2958-4403-d1ca-7b8b2bad5afa"
      },
      "source": [
        ""
      ],
      "execution_count": 9,
      "outputs": [
        {
          "output_type": "stream",
          "text": [
            "fatal: not a git repository (or any of the parent directories): .git\n"
          ],
          "name": "stdout"
        }
      ]
    },
    {
      "cell_type": "code",
      "metadata": {
        "id": "5TQVxH4eMAY9",
        "colab_type": "code",
        "colab": {}
      },
      "source": [
        ""
      ],
      "execution_count": 0,
      "outputs": []
    }
  ]
}